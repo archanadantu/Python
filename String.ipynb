{
 "cells": [
  {
   "cell_type": "code",
   "execution_count": 2,
   "id": "f5fc4b93-8760-4db3-8632-5365c083d8de",
   "metadata": {},
   "outputs": [
    {
     "name": "stdout",
     "output_type": "stream",
     "text": [
      "Hello World\n",
      "I like Python\n",
      "I understand Python\n"
     ]
    }
   ],
   "source": [
    "st1 = ('Hello World')\n",
    "st2 = (\"I like Python\")\n",
    "st3 = (\"\"\"I understand Python\"\"\") - #Doc String\n",
    "print(st1)\n",
    "print(st2)\n",
    "print(st3)"
   ]
  },
  {
   "cell_type": "code",
   "execution_count": 4,
   "id": "3bb7c1e0-63d1-43fc-9b5a-70f8cac46ec7",
   "metadata": {},
   "outputs": [
    {
     "name": "stdout",
     "output_type": "stream",
     "text": [
      "Archana is my name.Archana is a good girl.\n"
     ]
    }
   ],
   "source": [
    "val = 'Archana'\n",
    "fString = (f\"{val} is my name.{val} is a good girl.\")\n",
    "print(fString)\n"
   ]
  },
  {
   "cell_type": "code",
   "execution_count": 16,
   "id": "7618b994-2bfc-4773-bdd9-29249c6e79c3",
   "metadata": {},
   "outputs": [
    {
     "name": "stdout",
     "output_type": "stream",
     "text": [
      "5\n",
      "APPLE\n",
      "banana\n",
      "Apple\n",
      "I like ice cream\n",
      "  We all like ice cream  \n"
     ]
    }
   ],
   "source": [
    "val = 'apple'\n",
    "print(len(val))\n",
    "print(val.upper())\n",
    "val2='BANANA'\n",
    "print(val2.lower())\n",
    "print(val.capitalize())\n",
    "val3 = '  I like ice cream  '\n",
    "print(val3.strip()) # strip trims the string from both sides\n",
    "print(val3.replace('I', 'We all'))# replace have params (string to be replaced, String to be replaced with)"
   ]
  },
  {
   "cell_type": "code",
   "execution_count": 21,
   "id": "0194cd54-53b6-4467-b673-b388f3bd8f0a",
   "metadata": {},
   "outputs": [
    {
     "name": "stdout",
     "output_type": "stream",
     "text": [
      "['I', 'like', 'to', 'go', 'to', 'school']\n",
      "['I like chocolates', ' icecream', ' fruits']\n"
     ]
    }
   ],
   "source": [
    "val4 = 'I like to go to school'\n",
    "print(val4.split())\n",
    "val5 = 'I like chocolates, icecream, fruits'\n",
    "print(val5.split(',')) #string.split(separator, maxsplit)"
   ]
  },
  {
   "cell_type": "code",
   "execution_count": null,
   "id": "e8b7a00a-8342-4dc6-85fd-462fb8d26db1",
   "metadata": {},
   "outputs": [],
   "source": []
  }
 ],
 "metadata": {
  "kernelspec": {
   "display_name": "Python 3 (ipykernel)",
   "language": "python",
   "name": "python3"
  },
  "language_info": {
   "codemirror_mode": {
    "name": "ipython",
    "version": 3
   },
   "file_extension": ".py",
   "mimetype": "text/x-python",
   "name": "python",
   "nbconvert_exporter": "python",
   "pygments_lexer": "ipython3",
   "version": "3.11.7"
  }
 },
 "nbformat": 4,
 "nbformat_minor": 5
}
