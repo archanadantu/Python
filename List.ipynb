{
 "cells": [
  {
   "cell_type": "code",
   "execution_count": 4,
   "id": "303e4d0b-2172-4a87-a546-a33595f25b40",
   "metadata": {},
   "outputs": [
    {
     "name": "stdout",
     "output_type": "stream",
     "text": [
      "[1, 2, 3, 4, 5, 6, 7, 8, 9]\n"
     ]
    }
   ],
   "source": [
    "num = [1,2,3,4,5,6,7,8,9] #list with int values \n",
    "print(num)"
   ]
  },
  {
   "cell_type": "code",
   "execution_count": 5,
   "id": "3773ce96-2b57-4c31-a3d9-f77efd2bc5b4",
   "metadata": {},
   "outputs": [
    {
     "name": "stdout",
     "output_type": "stream",
     "text": [
      "<class 'list'>\n"
     ]
    }
   ],
   "source": [
    "print(type(num)) #to determine list type "
   ]
  },
  {
   "cell_type": "code",
   "execution_count": 8,
   "id": "e2c2b6eb-e0ed-4dad-b583-140667b1dac8",
   "metadata": {},
   "outputs": [
    {
     "name": "stdout",
     "output_type": "stream",
     "text": [
      "2\n"
     ]
    }
   ],
   "source": [
    "print(num[1]) #to determine the index of a value - Positive index start from 0 to n "
   ]
  },
  {
   "cell_type": "code",
   "execution_count": 10,
   "id": "44d37872-d291-4bf2-b529-dfd3765f71b9",
   "metadata": {},
   "outputs": [
    {
     "name": "stdout",
     "output_type": "stream",
     "text": [
      "7\n"
     ]
    }
   ],
   "source": [
    "print(num[-3]) #to determine the -ve index which starts from  -1"
   ]
  },
  {
   "cell_type": "code",
   "execution_count": 30,
   "id": "dab9b7e9-e1ac-4f0f-9ee9-80a1e7e4ea32",
   "metadata": {},
   "outputs": [
    {
     "name": "stdout",
     "output_type": "stream",
     "text": [
      "['apple', 'orange', 'cherry', 'cranberry', 'olive', 'mashroom']\n",
      "<class 'list'>\n",
      "mashroom\n",
      "['orange', 'cherry', 'cranberry']\n",
      "['apple', 'orange', 'cherry', 'mango', 'olive', 'mashroom']\n",
      "['apple', 'orange', 'cherry', 'mango', 'olive', 'mashroom', 'avocado']\n",
      "['apple', 'orange', 'mango', 'olive', 'mashroom', 'avocado']\n"
     ]
    }
   ],
   "source": [
    "alpha = ['apple','orange','cherry','cranberry','olive','mashroom']\n",
    "print(alpha)\n",
    "print(type(alpha))\n",
    "print(alpha[5])\n",
    "print(alpha[1:4]) # Slicing: a method to know the range of values in the list, end value is determined as n-1 (4 is the index of olive,since 4-1 is Cranberry orange to cranberry is the range\n",
    "alpha[3]='mango'\n",
    "print(alpha)\n",
    "alpha.append('avocado')\n",
    "print(alpha)\n",
    "alpha.remove('cherry')\n",
    "print(alpha)"
   ]
  },
  {
   "cell_type": "code",
   "execution_count": 27,
   "id": "f9006875-91c7-40d9-b68d-9819dbc36aab",
   "metadata": {},
   "outputs": [
    {
     "name": "stdout",
     "output_type": "stream",
     "text": [
      "[11, 'Hasitha', 19, 6, 'Alankrita', 27, 3]\n",
      "['Archana', 15, 11, 'Hasitha', 19, 6, 'Alankrita', 27]\n",
      "9\n",
      "['Archana', 15, 11]\n",
      "[6, 'Alankrita', 27]\n"
     ]
    }
   ],
   "source": [
    "alphanum = ['Archana', 15,11,'Hasitha',19,6,'Alankrita',27,3]\n",
    "print(alphanum[2:]) # to find value from a given range to end\n",
    "print(alphanum[:-1])\n",
    "print(len(alphanum))\n",
    "print(alphanum[0:3])\n",
    "print(alphanum[-4:-1])"
   ]
  },
  {
   "cell_type": "code",
   "execution_count": 2,
   "id": "f03d7316-362e-4c76-8cc8-2ab9a19f6681",
   "metadata": {},
   "outputs": [
    {
     "name": "stdout",
     "output_type": "stream",
     "text": [
      "['data science', 'full stack python', 'devops', 'full stack java', 'aws', 'salesforce']\n"
     ]
    }
   ],
   "source": [
    "teks = ['data science', 'full stack python', 'devops', 'full stack java', 'aws', 'salesforce']\n",
    "print(teks)"
   ]
  },
  {
   "cell_type": "code",
   "execution_count": 3,
   "id": "0678b3ff-2831-4c1f-97f0-3a506978be19",
   "metadata": {},
   "outputs": [
    {
     "name": "stdout",
     "output_type": "stream",
     "text": [
      "<class 'list'>\n"
     ]
    }
   ],
   "source": [
    "print(type(teks))"
   ]
  },
  {
   "cell_type": "code",
   "execution_count": 8,
   "id": "7100076c-054f-4f6d-adf1-a6b2f9086068",
   "metadata": {},
   "outputs": [
    {
     "name": "stdout",
     "output_type": "stream",
     "text": [
      "full stack python\n",
      "aws\n",
      "devops\n"
     ]
    }
   ],
   "source": [
    "print(teks[1])\n",
    "print(teks[-2])\n",
    "print(teks[2])"
   ]
  },
  {
   "cell_type": "code",
   "execution_count": 10,
   "id": "70f2a450-b8a1-431f-827b-47d6734002c2",
   "metadata": {},
   "outputs": [
    {
     "name": "stdout",
     "output_type": "stream",
     "text": [
      "['full stack python', 'devops', 'full stack java', 'aws', 'salesforce']\n"
     ]
    }
   ],
   "source": [
    "print(teks[1:10])"
   ]
  },
  {
   "cell_type": "code",
   "execution_count": null,
   "id": "2727dfb9-c759-45d4-90ff-640395165673",
   "metadata": {},
   "outputs": [],
   "source": [
    "#append, extend and insert, pop()- with zero params simply pop the last element., index(), count(),sort(),reverse(),"
   ]
  }
 ],
 "metadata": {
  "kernelspec": {
   "display_name": "Python 3 (ipykernel)",
   "language": "python",
   "name": "python3"
  },
  "language_info": {
   "codemirror_mode": {
    "name": "ipython",
    "version": 3
   },
   "file_extension": ".py",
   "mimetype": "text/x-python",
   "name": "python",
   "nbconvert_exporter": "python",
   "pygments_lexer": "ipython3",
   "version": "3.11.7"
  }
 },
 "nbformat": 4,
 "nbformat_minor": 5
}
